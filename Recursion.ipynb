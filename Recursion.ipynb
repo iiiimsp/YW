{
 "cells": [
  {
   "cell_type": "code",
   "execution_count": 34,
   "metadata": {},
   "outputs": [
    {
     "name": "stdout",
     "output_type": "stream",
     "text": [
      "12\n"
     ]
    }
   ],
   "source": [
    "#Finding the sum of all numbers in a list\n",
    "def sumlist(list):\n",
    "  if len(list) == 1:\n",
    "    return list[0]\n",
    "  else:\n",
    "    return list[0] + sumlist(list[1:])\n",
    "\n",
    "print(sumlist([3,10,-1]))"
   ]
  },
  {
   "cell_type": "code",
   "execution_count": 30,
   "metadata": {},
   "outputs": [
    {
     "name": "stdout",
     "output_type": "stream",
     "text": [
      "[2, 3, 4]\n"
     ]
    },
    {
     "data": {
      "text/plain": [
       "str"
      ]
     },
     "execution_count": 30,
     "metadata": {},
     "output_type": "execute_result"
    }
   ],
   "source": [
    "#Convert int/float/list to string\n",
    "def int_str(s):\n",
    "    if type(s) == str:\n",
    "        return s\n",
    "    elif type(s) == int:\n",
    "            return str(s)\n",
    "    else:\n",
    "        return str(s)\n",
    "\n",
    "print(int_str([2,3,4]))\n",
    "type(int_str([2,3,4]))"
   ]
  },
  {
   "cell_type": "code",
   "execution_count": 67,
   "metadata": {},
   "outputs": [
    {
     "name": "stdout",
     "output_type": "stream",
     "text": [
      "Enter integer: 30\n",
      "e\n"
     ]
    }
   ],
   "source": [
    "#Convert an integer to string based on a given code\n",
    "def strfcn(n):\n",
    "    base = \"youaremybutterfly\"\n",
    "    if n <= len(base):\n",
    "        return base[n-1]\n",
    "    else:\n",
    "        return strfcn(n-len(base))\n",
    "    \n",
    "n=eval(input(\"Enter integer: \"))\n",
    "print(strfcn(n))"
   ]
  },
  {
   "cell_type": "code",
   "execution_count": 66,
   "metadata": {},
   "outputs": [
    {
     "name": "stdout",
     "output_type": "stream",
     "text": [
      "6\n"
     ]
    }
   ],
   "source": [
    "#Write a Python program to get the factorial of a non-negative integer\n",
    "def factorial(i):\n",
    "    if i < 0:\n",
    "        return \"Undefined\"\n",
    "    elif i == 0:\n",
    "        return 1\n",
    "    else:\n",
    "        return i*factorial(i-1)\n",
    "\n",
    "print(factorial(3))"
   ]
  },
  {
   "cell_type": "code",
   "execution_count": 93,
   "metadata": {},
   "outputs": [
    {
     "name": "stdout",
     "output_type": "stream",
     "text": [
      "8\n"
     ]
    }
   ],
   "source": [
    "#Write a Python program to find the greatest common divisor (gcd) of two integers\n",
    "def gcd(n,d):\n",
    "    if n<d:\n",
    "        return gcd(d,n)\n",
    "    else:\n",
    "        if d == 0:\n",
    "            return n\n",
    "        elif n%d == 0:\n",
    "            return d\n",
    "        else:\n",
    "            return gcd(d,n%d)\n",
    "\n",
    "print(gcd(192,40))"
   ]
  }
 ],
 "metadata": {
  "kernelspec": {
   "display_name": "Python 3",
   "language": "python",
   "name": "python3"
  },
  "language_info": {
   "codemirror_mode": {
    "name": "ipython",
    "version": 3
   },
   "file_extension": ".py",
   "mimetype": "text/x-python",
   "name": "python",
   "nbconvert_exporter": "python",
   "pygments_lexer": "ipython3",
   "version": "3.7.6"
  }
 },
 "nbformat": 4,
 "nbformat_minor": 4
}
